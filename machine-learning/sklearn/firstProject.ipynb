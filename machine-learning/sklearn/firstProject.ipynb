# features (1 yes, 0 no)
# long hair | short leg | bark

pig1 = [0, 1, 0]
pig2 = [0, 1, 1]
pig3 = [1, 1, 0]

dog1 = [0, 1, 1]
dog2 = [1, 0, 1]
dog3 = [1, 1, 1]

train_x = [pig1, pig2, pig3, dog1, dog2, dog3] 
train_y = [1, 1, 1, 0, 0, 0] # classes / labels

from sklearn.svm import LinearSVC
from sklearn.metrics import accuracy_score

model = LinearSVC()
model.fit(train_x, train_y)

animal1 = [1, 1, 1]
animal2 = [1, 1, 0]
animal3 = [0, 1, 1]

test_x = [animal1, animal2, animal3]
previsions = model.predict(test_x)


test_y = [0, 1, 1]

correct = (previsions == test_y).sum()
total = len(test_y)
percentage = correct / total

print("Taxa de acerto %.2f" % (accuracy_score(test_y, previsions) * 100))




