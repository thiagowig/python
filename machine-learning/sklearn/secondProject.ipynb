import pandas as pd
from sklearn.svm import LinearSVC
from sklearn.metrics import accuracy_score
from sklearn.model_selection import train_test_split

uri = "https://gist.githubusercontent.com/guilhermesilveira/2d2efa37d66b6c84a722ea627a897ced/raw/10968b997d885cbded1c92938c7a9912ba41c615/tracking.csv"
data = pd.read_csv(uri)



columns_map = {
    "home": "index"
}
data = data.rename(columns = columns_map)

x = data[["index", "how_it_works", "contact"]]
y = data["bought"]

#training_x = x[:75]
#training_y = y[:75]

#test_x = x[75:]
#test_y = y[75:]

SEED = 20
train_x, test_x, train_y, test_y = train_test_split(x, y, random_state = SEED, test_size = 0.25, stratify = y)


model = LinearSVC()
model.fit(train_x, train_y)


previsions = model.predict(test_x)
accuracy = accuracy_score(test_y, previsions) * 100

print("A acurácia foi de %.2f%%" % accuracy)

